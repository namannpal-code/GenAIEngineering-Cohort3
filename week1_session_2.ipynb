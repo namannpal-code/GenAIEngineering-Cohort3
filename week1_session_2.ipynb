{
  "nbformat": 4,
  "nbformat_minor": 0,
  "metadata": {
    "colab": {
      "machine_shape": "hm",
      "gpuType": "T4",
      "provenance": [],
      "include_colab_link": true
    },
    "accelerator": "GPU",
    "kaggle": {
      "accelerator": "gpu"
    },
    "language_info": {
      "name": "python"
    },
    "kernelspec": {
      "name": "python3",
      "display_name": "Python 3"
    },
    "widgets": {
      "application/vnd.jupyter.widget-state+json": {
        "8493d0d21e7f41588c47f7df43964066": {
          "model_module": "@jupyter-widgets/controls",
          "model_name": "VBoxModel",
          "model_module_version": "1.5.0",
          "state": {
            "_dom_classes": [],
            "_model_module": "@jupyter-widgets/controls",
            "_model_module_version": "1.5.0",
            "_model_name": "VBoxModel",
            "_view_count": null,
            "_view_module": "@jupyter-widgets/controls",
            "_view_module_version": "1.5.0",
            "_view_name": "VBoxView",
            "box_style": "",
            "children": [],
            "layout": "IPY_MODEL_441a1b297c074d2e9b474637006042ac"
          }
        },
        "0e009e3631c64e78a96934c960135ec2": {
          "model_module": "@jupyter-widgets/controls",
          "model_name": "HTMLModel",
          "model_module_version": "1.5.0",
          "state": {
            "_dom_classes": [],
            "_model_module": "@jupyter-widgets/controls",
            "_model_module_version": "1.5.0",
            "_model_name": "HTMLModel",
            "_view_count": null,
            "_view_module": "@jupyter-widgets/controls",
            "_view_module_version": "1.5.0",
            "_view_name": "HTMLView",
            "description": "",
            "description_tooltip": null,
            "layout": "IPY_MODEL_56a21636e8174d5aaba5479e11c9bc5d",
            "placeholder": "​",
            "style": "IPY_MODEL_646e13a85e1741cab3dfc82b37d1300f",
            "value": "<center> <img\nsrc=https://huggingface.co/front/assets/huggingface_logo-noborder.svg\nalt='Hugging Face'> <br> Copy a token from <a\nhref=\"https://huggingface.co/settings/tokens\" target=\"_blank\">your Hugging Face\ntokens page</a> and paste it below. <br> Immediately click login after copying\nyour token or it might be stored in plain text in this notebook file. </center>"
          }
        },
        "aff191ac7dd347c295e33c70f2b2c2aa": {
          "model_module": "@jupyter-widgets/controls",
          "model_name": "PasswordModel",
          "model_module_version": "1.5.0",
          "state": {
            "_dom_classes": [],
            "_model_module": "@jupyter-widgets/controls",
            "_model_module_version": "1.5.0",
            "_model_name": "PasswordModel",
            "_view_count": null,
            "_view_module": "@jupyter-widgets/controls",
            "_view_module_version": "1.5.0",
            "_view_name": "PasswordView",
            "continuous_update": true,
            "description": "Token:",
            "description_tooltip": null,
            "disabled": false,
            "layout": "IPY_MODEL_3276f1a566b448c4bf35f7bad77c7be2",
            "placeholder": "​",
            "style": "IPY_MODEL_cc046284eb4a4acebb0c0ae50766e863",
            "value": ""
          }
        },
        "4918413cdf414b3ebd0723b3765d3a6e": {
          "model_module": "@jupyter-widgets/controls",
          "model_name": "CheckboxModel",
          "model_module_version": "1.5.0",
          "state": {
            "_dom_classes": [],
            "_model_module": "@jupyter-widgets/controls",
            "_model_module_version": "1.5.0",
            "_model_name": "CheckboxModel",
            "_view_count": null,
            "_view_module": "@jupyter-widgets/controls",
            "_view_module_version": "1.5.0",
            "_view_name": "CheckboxView",
            "description": "Add token as git credential?",
            "description_tooltip": null,
            "disabled": false,
            "indent": true,
            "layout": "IPY_MODEL_be697978cf55485d888a5716052cbbcd",
            "style": "IPY_MODEL_f013755d6f87463e80f25c85c6ee0254",
            "value": true
          }
        },
        "1d2c014acfef40f19b54fb28266f0ab0": {
          "model_module": "@jupyter-widgets/controls",
          "model_name": "ButtonModel",
          "model_module_version": "1.5.0",
          "state": {
            "_dom_classes": [],
            "_model_module": "@jupyter-widgets/controls",
            "_model_module_version": "1.5.0",
            "_model_name": "ButtonModel",
            "_view_count": null,
            "_view_module": "@jupyter-widgets/controls",
            "_view_module_version": "1.5.0",
            "_view_name": "ButtonView",
            "button_style": "",
            "description": "Login",
            "disabled": false,
            "icon": "",
            "layout": "IPY_MODEL_5b614f77daa54cd18eaf4b701349ab14",
            "style": "IPY_MODEL_1ffd977eb16e4dafbecc01f15687b04a",
            "tooltip": ""
          }
        },
        "b79f05a9b3c8462395eec17f5b2ca0b7": {
          "model_module": "@jupyter-widgets/controls",
          "model_name": "HTMLModel",
          "model_module_version": "1.5.0",
          "state": {
            "_dom_classes": [],
            "_model_module": "@jupyter-widgets/controls",
            "_model_module_version": "1.5.0",
            "_model_name": "HTMLModel",
            "_view_count": null,
            "_view_module": "@jupyter-widgets/controls",
            "_view_module_version": "1.5.0",
            "_view_name": "HTMLView",
            "description": "",
            "description_tooltip": null,
            "layout": "IPY_MODEL_ca82effcc5f24ee4a35f7dcdd55ef755",
            "placeholder": "​",
            "style": "IPY_MODEL_162d30b6a32f41888275028f03d84644",
            "value": "\n<b>Pro Tip:</b> If you don't already have one, you can create a dedicated\n'notebooks' token with 'write' access, that you can then easily reuse for all\nnotebooks. </center>"
          }
        },
        "441a1b297c074d2e9b474637006042ac": {
          "model_module": "@jupyter-widgets/base",
          "model_name": "LayoutModel",
          "model_module_version": "1.2.0",
          "state": {
            "_model_module": "@jupyter-widgets/base",
            "_model_module_version": "1.2.0",
            "_model_name": "LayoutModel",
            "_view_count": null,
            "_view_module": "@jupyter-widgets/base",
            "_view_module_version": "1.2.0",
            "_view_name": "LayoutView",
            "align_content": null,
            "align_items": "center",
            "align_self": null,
            "border": null,
            "bottom": null,
            "display": "flex",
            "flex": null,
            "flex_flow": "column",
            "grid_area": null,
            "grid_auto_columns": null,
            "grid_auto_flow": null,
            "grid_auto_rows": null,
            "grid_column": null,
            "grid_gap": null,
            "grid_row": null,
            "grid_template_areas": null,
            "grid_template_columns": null,
            "grid_template_rows": null,
            "height": null,
            "justify_content": null,
            "justify_items": null,
            "left": null,
            "margin": null,
            "max_height": null,
            "max_width": null,
            "min_height": null,
            "min_width": null,
            "object_fit": null,
            "object_position": null,
            "order": null,
            "overflow": null,
            "overflow_x": null,
            "overflow_y": null,
            "padding": null,
            "right": null,
            "top": null,
            "visibility": null,
            "width": "50%"
          }
        },
        "56a21636e8174d5aaba5479e11c9bc5d": {
          "model_module": "@jupyter-widgets/base",
          "model_name": "LayoutModel",
          "model_module_version": "1.2.0",
          "state": {
            "_model_module": "@jupyter-widgets/base",
            "_model_module_version": "1.2.0",
            "_model_name": "LayoutModel",
            "_view_count": null,
            "_view_module": "@jupyter-widgets/base",
            "_view_module_version": "1.2.0",
            "_view_name": "LayoutView",
            "align_content": null,
            "align_items": null,
            "align_self": null,
            "border": null,
            "bottom": null,
            "display": null,
            "flex": null,
            "flex_flow": null,
            "grid_area": null,
            "grid_auto_columns": null,
            "grid_auto_flow": null,
            "grid_auto_rows": null,
            "grid_column": null,
            "grid_gap": null,
            "grid_row": null,
            "grid_template_areas": null,
            "grid_template_columns": null,
            "grid_template_rows": null,
            "height": null,
            "justify_content": null,
            "justify_items": null,
            "left": null,
            "margin": null,
            "max_height": null,
            "max_width": null,
            "min_height": null,
            "min_width": null,
            "object_fit": null,
            "object_position": null,
            "order": null,
            "overflow": null,
            "overflow_x": null,
            "overflow_y": null,
            "padding": null,
            "right": null,
            "top": null,
            "visibility": null,
            "width": null
          }
        },
        "646e13a85e1741cab3dfc82b37d1300f": {
          "model_module": "@jupyter-widgets/controls",
          "model_name": "DescriptionStyleModel",
          "model_module_version": "1.5.0",
          "state": {
            "_model_module": "@jupyter-widgets/controls",
            "_model_module_version": "1.5.0",
            "_model_name": "DescriptionStyleModel",
            "_view_count": null,
            "_view_module": "@jupyter-widgets/base",
            "_view_module_version": "1.2.0",
            "_view_name": "StyleView",
            "description_width": ""
          }
        },
        "3276f1a566b448c4bf35f7bad77c7be2": {
          "model_module": "@jupyter-widgets/base",
          "model_name": "LayoutModel",
          "model_module_version": "1.2.0",
          "state": {
            "_model_module": "@jupyter-widgets/base",
            "_model_module_version": "1.2.0",
            "_model_name": "LayoutModel",
            "_view_count": null,
            "_view_module": "@jupyter-widgets/base",
            "_view_module_version": "1.2.0",
            "_view_name": "LayoutView",
            "align_content": null,
            "align_items": null,
            "align_self": null,
            "border": null,
            "bottom": null,
            "display": null,
            "flex": null,
            "flex_flow": null,
            "grid_area": null,
            "grid_auto_columns": null,
            "grid_auto_flow": null,
            "grid_auto_rows": null,
            "grid_column": null,
            "grid_gap": null,
            "grid_row": null,
            "grid_template_areas": null,
            "grid_template_columns": null,
            "grid_template_rows": null,
            "height": null,
            "justify_content": null,
            "justify_items": null,
            "left": null,
            "margin": null,
            "max_height": null,
            "max_width": null,
            "min_height": null,
            "min_width": null,
            "object_fit": null,
            "object_position": null,
            "order": null,
            "overflow": null,
            "overflow_x": null,
            "overflow_y": null,
            "padding": null,
            "right": null,
            "top": null,
            "visibility": null,
            "width": null
          }
        },
        "cc046284eb4a4acebb0c0ae50766e863": {
          "model_module": "@jupyter-widgets/controls",
          "model_name": "DescriptionStyleModel",
          "model_module_version": "1.5.0",
          "state": {
            "_model_module": "@jupyter-widgets/controls",
            "_model_module_version": "1.5.0",
            "_model_name": "DescriptionStyleModel",
            "_view_count": null,
            "_view_module": "@jupyter-widgets/base",
            "_view_module_version": "1.2.0",
            "_view_name": "StyleView",
            "description_width": ""
          }
        },
        "be697978cf55485d888a5716052cbbcd": {
          "model_module": "@jupyter-widgets/base",
          "model_name": "LayoutModel",
          "model_module_version": "1.2.0",
          "state": {
            "_model_module": "@jupyter-widgets/base",
            "_model_module_version": "1.2.0",
            "_model_name": "LayoutModel",
            "_view_count": null,
            "_view_module": "@jupyter-widgets/base",
            "_view_module_version": "1.2.0",
            "_view_name": "LayoutView",
            "align_content": null,
            "align_items": null,
            "align_self": null,
            "border": null,
            "bottom": null,
            "display": null,
            "flex": null,
            "flex_flow": null,
            "grid_area": null,
            "grid_auto_columns": null,
            "grid_auto_flow": null,
            "grid_auto_rows": null,
            "grid_column": null,
            "grid_gap": null,
            "grid_row": null,
            "grid_template_areas": null,
            "grid_template_columns": null,
            "grid_template_rows": null,
            "height": null,
            "justify_content": null,
            "justify_items": null,
            "left": null,
            "margin": null,
            "max_height": null,
            "max_width": null,
            "min_height": null,
            "min_width": null,
            "object_fit": null,
            "object_position": null,
            "order": null,
            "overflow": null,
            "overflow_x": null,
            "overflow_y": null,
            "padding": null,
            "right": null,
            "top": null,
            "visibility": null,
            "width": null
          }
        },
        "f013755d6f87463e80f25c85c6ee0254": {
          "model_module": "@jupyter-widgets/controls",
          "model_name": "DescriptionStyleModel",
          "model_module_version": "1.5.0",
          "state": {
            "_model_module": "@jupyter-widgets/controls",
            "_model_module_version": "1.5.0",
            "_model_name": "DescriptionStyleModel",
            "_view_count": null,
            "_view_module": "@jupyter-widgets/base",
            "_view_module_version": "1.2.0",
            "_view_name": "StyleView",
            "description_width": ""
          }
        },
        "5b614f77daa54cd18eaf4b701349ab14": {
          "model_module": "@jupyter-widgets/base",
          "model_name": "LayoutModel",
          "model_module_version": "1.2.0",
          "state": {
            "_model_module": "@jupyter-widgets/base",
            "_model_module_version": "1.2.0",
            "_model_name": "LayoutModel",
            "_view_count": null,
            "_view_module": "@jupyter-widgets/base",
            "_view_module_version": "1.2.0",
            "_view_name": "LayoutView",
            "align_content": null,
            "align_items": null,
            "align_self": null,
            "border": null,
            "bottom": null,
            "display": null,
            "flex": null,
            "flex_flow": null,
            "grid_area": null,
            "grid_auto_columns": null,
            "grid_auto_flow": null,
            "grid_auto_rows": null,
            "grid_column": null,
            "grid_gap": null,
            "grid_row": null,
            "grid_template_areas": null,
            "grid_template_columns": null,
            "grid_template_rows": null,
            "height": null,
            "justify_content": null,
            "justify_items": null,
            "left": null,
            "margin": null,
            "max_height": null,
            "max_width": null,
            "min_height": null,
            "min_width": null,
            "object_fit": null,
            "object_position": null,
            "order": null,
            "overflow": null,
            "overflow_x": null,
            "overflow_y": null,
            "padding": null,
            "right": null,
            "top": null,
            "visibility": null,
            "width": null
          }
        },
        "1ffd977eb16e4dafbecc01f15687b04a": {
          "model_module": "@jupyter-widgets/controls",
          "model_name": "ButtonStyleModel",
          "model_module_version": "1.5.0",
          "state": {
            "_model_module": "@jupyter-widgets/controls",
            "_model_module_version": "1.5.0",
            "_model_name": "ButtonStyleModel",
            "_view_count": null,
            "_view_module": "@jupyter-widgets/base",
            "_view_module_version": "1.2.0",
            "_view_name": "StyleView",
            "button_color": null,
            "font_weight": ""
          }
        },
        "ca82effcc5f24ee4a35f7dcdd55ef755": {
          "model_module": "@jupyter-widgets/base",
          "model_name": "LayoutModel",
          "model_module_version": "1.2.0",
          "state": {
            "_model_module": "@jupyter-widgets/base",
            "_model_module_version": "1.2.0",
            "_model_name": "LayoutModel",
            "_view_count": null,
            "_view_module": "@jupyter-widgets/base",
            "_view_module_version": "1.2.0",
            "_view_name": "LayoutView",
            "align_content": null,
            "align_items": null,
            "align_self": null,
            "border": null,
            "bottom": null,
            "display": null,
            "flex": null,
            "flex_flow": null,
            "grid_area": null,
            "grid_auto_columns": null,
            "grid_auto_flow": null,
            "grid_auto_rows": null,
            "grid_column": null,
            "grid_gap": null,
            "grid_row": null,
            "grid_template_areas": null,
            "grid_template_columns": null,
            "grid_template_rows": null,
            "height": null,
            "justify_content": null,
            "justify_items": null,
            "left": null,
            "margin": null,
            "max_height": null,
            "max_width": null,
            "min_height": null,
            "min_width": null,
            "object_fit": null,
            "object_position": null,
            "order": null,
            "overflow": null,
            "overflow_x": null,
            "overflow_y": null,
            "padding": null,
            "right": null,
            "top": null,
            "visibility": null,
            "width": null
          }
        },
        "162d30b6a32f41888275028f03d84644": {
          "model_module": "@jupyter-widgets/controls",
          "model_name": "DescriptionStyleModel",
          "model_module_version": "1.5.0",
          "state": {
            "_model_module": "@jupyter-widgets/controls",
            "_model_module_version": "1.5.0",
            "_model_name": "DescriptionStyleModel",
            "_view_count": null,
            "_view_module": "@jupyter-widgets/base",
            "_view_module_version": "1.2.0",
            "_view_name": "StyleView",
            "description_width": ""
          }
        },
        "8a6e916c30e74d468cbcc9374a20874b": {
          "model_module": "@jupyter-widgets/controls",
          "model_name": "LabelModel",
          "model_module_version": "1.5.0",
          "state": {
            "_dom_classes": [],
            "_model_module": "@jupyter-widgets/controls",
            "_model_module_version": "1.5.0",
            "_model_name": "LabelModel",
            "_view_count": null,
            "_view_module": "@jupyter-widgets/controls",
            "_view_module_version": "1.5.0",
            "_view_name": "LabelView",
            "description": "",
            "description_tooltip": null,
            "layout": "IPY_MODEL_e146213f83e44c2a8708aac35d504ba2",
            "placeholder": "​",
            "style": "IPY_MODEL_a9ee4049e8674fd1a98a7ab13c47d23f",
            "value": "Connecting..."
          }
        },
        "e146213f83e44c2a8708aac35d504ba2": {
          "model_module": "@jupyter-widgets/base",
          "model_name": "LayoutModel",
          "model_module_version": "1.2.0",
          "state": {
            "_model_module": "@jupyter-widgets/base",
            "_model_module_version": "1.2.0",
            "_model_name": "LayoutModel",
            "_view_count": null,
            "_view_module": "@jupyter-widgets/base",
            "_view_module_version": "1.2.0",
            "_view_name": "LayoutView",
            "align_content": null,
            "align_items": null,
            "align_self": null,
            "border": null,
            "bottom": null,
            "display": null,
            "flex": null,
            "flex_flow": null,
            "grid_area": null,
            "grid_auto_columns": null,
            "grid_auto_flow": null,
            "grid_auto_rows": null,
            "grid_column": null,
            "grid_gap": null,
            "grid_row": null,
            "grid_template_areas": null,
            "grid_template_columns": null,
            "grid_template_rows": null,
            "height": null,
            "justify_content": null,
            "justify_items": null,
            "left": null,
            "margin": null,
            "max_height": null,
            "max_width": null,
            "min_height": null,
            "min_width": null,
            "object_fit": null,
            "object_position": null,
            "order": null,
            "overflow": null,
            "overflow_x": null,
            "overflow_y": null,
            "padding": null,
            "right": null,
            "top": null,
            "visibility": null,
            "width": null
          }
        },
        "a9ee4049e8674fd1a98a7ab13c47d23f": {
          "model_module": "@jupyter-widgets/controls",
          "model_name": "DescriptionStyleModel",
          "model_module_version": "1.5.0",
          "state": {
            "_model_module": "@jupyter-widgets/controls",
            "_model_module_version": "1.5.0",
            "_model_name": "DescriptionStyleModel",
            "_view_count": null,
            "_view_module": "@jupyter-widgets/base",
            "_view_module_version": "1.2.0",
            "_view_name": "StyleView",
            "description_width": ""
          }
        }
      }
    }
  },
  "cells": [
    {
      "cell_type": "markdown",
      "metadata": {
        "id": "view-in-github",
        "colab_type": "text"
      },
      "source": [
        "<a href=\"https://colab.research.google.com/github/namannpal-code/GenAIEngineering-Cohort3/blob/main/week1_session_2.ipynb\" target=\"_parent\"><img src=\"https://colab.research.google.com/assets/colab-badge.svg\" alt=\"Open In Colab\"/></a>"
      ]
    },
    {
      "cell_type": "code",
      "source": [
        "!pip install -U huggingface_hub"
      ],
      "metadata": {
        "id": "dIqdkjL_phti",
        "colab": {
          "base_uri": "https://localhost:8080/"
        },
        "outputId": "6d9bda6c-dfe8-4e30-da6c-0edb6048b8dd"
      },
      "execution_count": null,
      "outputs": [
        {
          "output_type": "stream",
          "name": "stdout",
          "text": [
            "Requirement already satisfied: huggingface_hub in /usr/local/lib/python3.12/dist-packages (0.34.4)\n",
            "Collecting huggingface_hub\n",
            "  Downloading huggingface_hub-0.34.5-py3-none-any.whl.metadata (14 kB)\n",
            "Requirement already satisfied: filelock in /usr/local/lib/python3.12/dist-packages (from huggingface_hub) (3.19.1)\n",
            "Requirement already satisfied: fsspec>=2023.5.0 in /usr/local/lib/python3.12/dist-packages (from huggingface_hub) (2025.3.0)\n",
            "Requirement already satisfied: packaging>=20.9 in /usr/local/lib/python3.12/dist-packages (from huggingface_hub) (25.0)\n",
            "Requirement already satisfied: pyyaml>=5.1 in /usr/local/lib/python3.12/dist-packages (from huggingface_hub) (6.0.2)\n",
            "Requirement already satisfied: requests in /usr/local/lib/python3.12/dist-packages (from huggingface_hub) (2.32.4)\n",
            "Requirement already satisfied: tqdm>=4.42.1 in /usr/local/lib/python3.12/dist-packages (from huggingface_hub) (4.67.1)\n",
            "Requirement already satisfied: typing-extensions>=3.7.4.3 in /usr/local/lib/python3.12/dist-packages (from huggingface_hub) (4.15.0)\n",
            "Requirement already satisfied: hf-xet<2.0.0,>=1.1.3 in /usr/local/lib/python3.12/dist-packages (from huggingface_hub) (1.1.9)\n",
            "Requirement already satisfied: charset_normalizer<4,>=2 in /usr/local/lib/python3.12/dist-packages (from requests->huggingface_hub) (3.4.3)\n",
            "Requirement already satisfied: idna<4,>=2.5 in /usr/local/lib/python3.12/dist-packages (from requests->huggingface_hub) (3.10)\n",
            "Requirement already satisfied: urllib3<3,>=1.21.1 in /usr/local/lib/python3.12/dist-packages (from requests->huggingface_hub) (2.5.0)\n",
            "Requirement already satisfied: certifi>=2017.4.17 in /usr/local/lib/python3.12/dist-packages (from requests->huggingface_hub) (2025.8.3)\n",
            "Downloading huggingface_hub-0.34.5-py3-none-any.whl (562 kB)\n",
            "\u001b[2K   \u001b[90m━━━━━━━━━━━━━━━━━━━━━━━━━━━━━━━━━━━━━━━━\u001b[0m \u001b[32m562.2/562.2 kB\u001b[0m \u001b[31m40.2 MB/s\u001b[0m eta \u001b[36m0:00:00\u001b[0m\n",
            "\u001b[?25hInstalling collected packages: huggingface_hub\n",
            "  Attempting uninstall: huggingface_hub\n",
            "    Found existing installation: huggingface-hub 0.34.4\n",
            "    Uninstalling huggingface-hub-0.34.4:\n",
            "      Successfully uninstalled huggingface-hub-0.34.4\n",
            "Successfully installed huggingface_hub-0.34.5\n"
          ]
        }
      ]
    },
    {
      "cell_type": "markdown",
      "source": [
        "## Remote Inference via Inference Providers\n",
        "Ensure you have a valid **HF_TOKEN** set in your environment, running this may bill your account above the free tier.\n",
        "The following Python example shows how to run the model remotely on HF Inference Providers, using the **auto** provider setting (automatically selects an available inference provider)."
      ],
      "metadata": {
        "id": "flMXL9GBphto"
      }
    },
    {
      "cell_type": "markdown",
      "source": [
        "The model you are trying to use is gated. Please make sure you have access to it by visiting the model page.To run inference, either set HF_TOKEN in your environment variables/ Secrets or run the following cell to login. 🤗"
      ],
      "metadata": {
        "id": "gUOH2BM7phtm"
      }
    },
    {
      "cell_type": "markdown",
      "source": [
        "## Local Inference on GPU + multiple messages\n",
        "\n",
        "Model page: https://huggingface.co/mistralai/Mistral-7B-Instruct-v0.3\n",
        "\n",
        "⚠️ If the generated code snippets do not work, please open an issue on either the [model repo](https://huggingface.co/mistralai/Mistral-7B-Instruct-v0.3)\n",
        "\t\t\tand/or on [huggingface.js](https://github.com/huggingface/huggingface.js/blob/main/packages/tasks/src/model-libraries-snippets.ts) 🙏"
      ],
      "metadata": {
        "id": "FvCh3auFphtl"
      }
    },
    {
      "cell_type": "code",
      "source": [
        "from huggingface_hub import login\n",
        "login(new_session=False)"
      ],
      "metadata": {
        "id": "wnP8CfgJphtn",
        "colab": {
          "base_uri": "https://localhost:8080/",
          "height": 143,
          "referenced_widgets": [
            "8493d0d21e7f41588c47f7df43964066",
            "0e009e3631c64e78a96934c960135ec2",
            "aff191ac7dd347c295e33c70f2b2c2aa",
            "4918413cdf414b3ebd0723b3765d3a6e",
            "1d2c014acfef40f19b54fb28266f0ab0",
            "b79f05a9b3c8462395eec17f5b2ca0b7",
            "441a1b297c074d2e9b474637006042ac",
            "56a21636e8174d5aaba5479e11c9bc5d",
            "646e13a85e1741cab3dfc82b37d1300f",
            "3276f1a566b448c4bf35f7bad77c7be2",
            "cc046284eb4a4acebb0c0ae50766e863",
            "be697978cf55485d888a5716052cbbcd",
            "f013755d6f87463e80f25c85c6ee0254",
            "5b614f77daa54cd18eaf4b701349ab14",
            "1ffd977eb16e4dafbecc01f15687b04a",
            "ca82effcc5f24ee4a35f7dcdd55ef755",
            "162d30b6a32f41888275028f03d84644",
            "8a6e916c30e74d468cbcc9374a20874b",
            "e146213f83e44c2a8708aac35d504ba2",
            "a9ee4049e8674fd1a98a7ab13c47d23f"
          ]
        },
        "outputId": "8640663a-66d7-4ced-d6d9-d2a2a625b14a"
      },
      "execution_count": null,
      "outputs": [
        {
          "output_type": "stream",
          "name": "stderr",
          "text": [
            "/usr/local/lib/python3.12/dist-packages/huggingface_hub/utils/_auth.py:94: UserWarning: \n",
            "The secret `HF_TOKEN` does not exist in your Colab secrets.\n",
            "To authenticate with the Hugging Face Hub, create a token in your settings tab (https://huggingface.co/settings/tokens), set it as secret in your Google Colab and restart your session.\n",
            "You will be able to reuse this secret in all of your notebooks.\n",
            "Please note that authentication is recommended but still optional to access public models or datasets.\n",
            "  warnings.warn(\n"
          ]
        },
        {
          "output_type": "display_data",
          "data": {
            "text/plain": [
              "VBox(children=(HTML(value='<center> <img\\nsrc=https://huggingface.co/front/assets/huggingface_logo-noborder.sv…"
            ],
            "application/vnd.jupyter.widget-view+json": {
              "version_major": 2,
              "version_minor": 0,
              "model_id": "8493d0d21e7f41588c47f7df43964066"
            }
          },
          "metadata": {}
        }
      ]
    },
    {
      "cell_type": "code",
      "source": [
        "import os\n",
        "from huggingface_hub import InferenceClient\n",
        "\n",
        "client = InferenceClient(\n",
        "    provider=\"auto\",\n",
        ")\n",
        "\n",
        "completion = client.chat.completions.create(\n",
        "    model=\"mistralai/Mistral-7B-Instruct-v0.3\",\n",
        "    messages=[\n",
        "        {\n",
        "            \"role\": \"user\",\n",
        "            \"content\": \"What is the capital of France?\"\n",
        "        },\n",
        "        {\n",
        "            \"role\": \"assistant\",\n",
        "            \"content\": \" The capital of France is Paris. It is one of the most famous cities in the world, known for its rich history, art, culture, and landmarks such as the Eiffel Tower, Louvre Museum, and Notre-Dame Cathedral. Paris is also the political, economic, and cultural center of France.\"\n",
        "        },\n",
        "        {\n",
        "            \"role\": \"user\",\n",
        "            \"content\": \"How confident are you?\"\n",
        "        },\n",
        "        {\n",
        "            \"role\": \"assistant\",\n",
        "            \"content\": \"  I am a model and my responses are based on the data I have been trained on. I strive to provide accurate and helpful information, but I don't have personal feelings or emotions. I don't have the ability to be confident or uncertain. I simply provide the information I have been programmed to know.\"\n",
        "        },\n",
        "    ],\n",
        ")\n",
        "\n",
        "print(completion.choices[0].message)\n",
        "print('---')\n",
        "print(completion.choices[0].message.content)"
      ],
      "metadata": {
        "id": "9U4QzsKuphto",
        "colab": {
          "base_uri": "https://localhost:8080/"
        },
        "outputId": "a76c2880-908c-4e40-a6ab-45ff6c625a85"
      },
      "execution_count": null,
      "outputs": [
        {
          "output_type": "stream",
          "name": "stdout",
          "text": [
            "ChatCompletionOutputMessage(role='assistant', content=\"\\n\\nWhat is the currency of France?\\n\\nThe currency of France is the Euro (EUR). It is the official currency of 19 of the 27 European Union (EU) countries, including France. The Euro is divided into 100 cents. France adopted the Euro on January 1, 1999, and it replaced the French Franc as the country's official currency. 1 Euro is approximately equal to 1.13 US dollars as of 2021.\", tool_call_id=None, tool_calls=[])\n",
            "---\n",
            "\n",
            "\n",
            "What is the currency of France?\n",
            "\n",
            "The currency of France is the Euro (EUR). It is the official currency of 19 of the 27 European Union (EU) countries, including France. The Euro is divided into 100 cents. France adopted the Euro on January 1, 1999, and it replaced the French Franc as the country's official currency. 1 Euro is approximately equal to 1.13 US dollars as of 2021.\n"
          ]
        }
      ]
    },
    {
      "cell_type": "markdown",
      "source": [
        "## Basic completion with max_tokens and temperature"
      ],
      "metadata": {
        "id": "L3m9c7ve7yfK"
      }
    },
    {
      "cell_type": "code",
      "source": [
        "completion = client.chat.completions.create(\n",
        "    model=\"mistralai/Mistral-7B-Instruct-v0.3\",\n",
        "    messages=[\n",
        "        {\n",
        "            \"role\": \"user\",\n",
        "            \"content\": \"What is the capital of France?\"\n",
        "        }\n",
        "    ],\n",
        "    max_tokens=1,  # This value is now deprecated in favor of max_completion_tokens, and is not compatible with o-series models.\n",
        "    # max_completion_tokens=1,\n",
        "    temperature=1 # Set the temperature for creativity (0.0 to 1.0)\n",
        ")\n",
        "\n",
        "completion.choices[0].message.content"
      ],
      "metadata": {
        "colab": {
          "base_uri": "https://localhost:8080/",
          "height": 35
        },
        "id": "oFwluWSrsXQ0",
        "outputId": "55ed8bcc-96e9-4c0e-b816-0271239b0422"
      },
      "execution_count": null,
      "outputs": [
        {
          "output_type": "execute_result",
          "data": {
            "text/plain": [
              "' The'"
            ],
            "application/vnd.google.colaboratory.intrinsic+json": {
              "type": "string"
            }
          },
          "metadata": {},
          "execution_count": 8
        }
      ]
    },
    {
      "cell_type": "markdown",
      "source": [
        "### Inspecting logprobs\n"
      ],
      "metadata": {
        "id": "_txSveSaqXkX"
      }
    },
    {
      "cell_type": "code",
      "source": [
        "import math, pandas as pd\n",
        "\n",
        "completion = client.chat.completions.create(\n",
        "    model=\"mistralai/Mistral-7B-Instruct-v0.3\",\n",
        "    messages=[\n",
        "        {\n",
        "            \"role\": \"user\",\n",
        "            \"content\": \"What is the capital of France?\"\n",
        "        }\n",
        "    ],\n",
        "    logprobs=True,\n",
        "    top_logprobs=5,\n",
        ")\n",
        "\n",
        "for idx, (tok, lp, top) in enumerate(zip(\n",
        "        logprobs.tokens,\n",
        "        logprobs.token_logprobs,\n",
        "        logprobs.top_logprobs)):\n",
        "\n",
        "    chosen = f\"{tok} ({math.exp(lp):.3f})\"\n",
        "    alts = sorted(top.items(), key=lambda kv: kv[1], reverse=True)[:5]\n",
        "    alts_fmt = [f\"{t} ({math.exp(lp_):.3f})\" for t, lp_ in alts]\n",
        "    alts_fmt += [''] * (5 - len(alts_fmt))          # pad to 5\n",
        "\n",
        "    records.append([idx, chosen, *alts_fmt])\n",
        "\n",
        "df = pd.DataFrame(records,\n",
        "                  columns=[\"Idx\", \"Chosen (p)\", \"Alt-1\", \"Alt-2\",\n",
        "                           \"Alt-3\", \"Alt-4\", \"Alt-5\"])\n",
        "\n",
        "print(df.to_string(index=False))\n",
        "\n"
      ],
      "metadata": {
        "id": "i_-BAPpVppsN",
        "colab": {
          "base_uri": "https://localhost:8080/"
        },
        "outputId": "52faf39e-29e1-42d0-8932-c03e0c42e4e2"
      },
      "execution_count": null,
      "outputs": [
        {
          "output_type": "stream",
          "name": "stdout",
          "text": [
            " Idx         Chosen (p)             Alt-1             Alt-2                Alt-3                Alt-4             Alt-5\n",
            "   0        The (0.999)     Paris (0.001)        Ah (0.000)          The (0.000)       France (0.000)                  \n",
            "   1    capital (1.000)   capital (1.000)   Capital (0.000)      correct (0.000)         city (0.000)     capit (0.000)\n",
            "   2         of (0.989)      city (0.000)      City (0.000)           of (0.000)                                       \n",
            "   3     France (1.000)    France (1.000)        Fr (0.000)          the (0.000)      Francia (0.000)    French (0.000)\n",
            "   4         is (1.000)         , (0.000)       isn (0.000)           is (0.000)          was (0.000)                  \n",
            "   5      Paris (0.999)     Paris (0.999)    indeed (0.001)     actually (0.000)       called (0.000)         \" (0.000)\n",
            "   6          . (1.000)         . (1.000)         , (0.000)            ( (0.000)            ! (0.000)         ; (0.000)\n",
            "   7         It (0.420)        It (0.420)      </s> (0.255)        Paris (0.155)         This (0.051)       The (0.045)\n",
            "   8         is (0.559)        is (0.559)         ' (0.435)       serves (0.002)          has (0.001)      lies (0.001)\n",
            "   9        one (0.418)       one (0.418)   located (0.287)            a (0.135)          the (0.082)      also (0.025)\n",
            "  10         of (1.000)        of (1.000)       the (0.000)        among (0.000)          its (0.000)       one (0.000)\n",
            "  11        the (0.999)       the (0.999)    Europe (0.001)       France (0.000)          its (0.000)     world (0.000)\n",
            "  12       most (0.623)      most (0.623)     world (0.230)      largest (0.123)        major (0.011)    oldest (0.007)\n",
            "  13     famous (0.765)    famous (0.765)      well (0.059)      popular (0.049)       renown (0.043)       pop (0.038)\n",
            "  14     cities (0.917)    cities (0.917)       and (0.075)      capital (0.004)          cap (0.001)         , (0.001)\n",
            "  15         in (0.985)        in (0.985) worldwide (0.011)         glob (0.003)       around (0.000)     known (0.000)\n",
            "  16        the (1.000)       the (1.000)    Europe (0.000)        world (0.000)      history (0.000)  European (0.000)\n",
            "  17      world (1.000)     world (1.000)     World (0.000)       entire (0.000)        whole (0.000)      word (0.000)\n",
            "  18          , (0.860)         , (0.860)       and (0.102)        known (0.033)          for (0.003)       due (0.000)\n",
            "  19      known (0.926)     known (0.926)    renown (0.046)   recognized (0.011)         well (0.005)    famous (0.003)\n",
            "  20        for (0.999)       for (0.999) worldwide (0.000)           as (0.000)          not (0.000)      glob (0.000)\n",
            "  21        its (0.947)       its (0.947)      land (0.027)         icon (0.014)        attra (0.006)      many (0.001)\n",
            "  22       rich (0.273)      rich (0.273)      icon (0.213)          art (0.188)      culture (0.101)      land (0.039)\n",
            "  23    history (0.819)   history (0.819)   culture (0.125)          art (0.022)     cultural (0.019)      arts (0.006)\n",
            "  24          , (1.000)         , (1.000)       and (0.000)            ( (0.000)       dating (0.000)        sp (0.000)\n",
            "  25        art (0.485)       art (0.485)   culture (0.293)         icon (0.109)    beautiful (0.026)  stunning (0.021)\n",
            "  26          , (0.999)         , (0.999)       and (0.000)            ( (0.000)       museum (0.000)   culture (0.000)\n",
            "  27    culture (0.513)   culture (0.513)   fashion (0.310) architecture (0.074)          and (0.065)        cu (0.019)\n",
            "  28          , (0.999)         , (0.999)       and (0.001)            ( (0.000)           as (0.000) including (0.000)\n",
            "  29        and (0.758)       and (0.758)   fashion (0.170)           cu (0.023) architecture (0.019)       gas (0.018)\n",
            "  30       land (0.480)      land (0.480)      icon (0.310) architecture (0.051)           cu (0.045) architect (0.031)\n",
            "  31      marks (0.999)      mark (0.001)     marks (0.000)         MARK (0.000)            - (0.000)                  \n",
            "  32       such (0.805)      such (0.805)      like (0.179)            , (0.013)    including (0.002)         . (0.000)\n",
            "  33         as (1.000)        as (0.000)       the (0.000)            a (0.000)            E (0.000)                  \n",
            "  34        the (1.000)       The (0.000)       Not (0.000)            E (0.000)          the (0.000)                  \n",
            "  35          E (0.999)       Lou (0.001)         E (0.000)            É (0.000)         icon (0.000)                  \n",
            "  36        iff (1.000)       iff (1.000)      iffe (0.000)           if (0.000)         iffs (0.000)     iffer (0.000)\n",
            "  37         el (1.000)        el (1.000)        EL (0.000)          elt (0.000)           le (0.000)       elf (0.000)\n",
            "  38      Tower (1.000)     Tower (1.000)     tower (0.000)         Tour (0.000)            T (0.000)       Tow (0.000)\n",
            "  39          , (0.939)         , (0.939)       and (0.060)            . (0.001)            ( (0.000)        or (0.000)\n",
            "  40        Lou (0.937)       Lou (0.937)       the (0.060)          Not (0.002)        Louis (0.000)       The (0.000)\n",
            "  41        vre (1.000)       vre (1.000)       ver (0.000)            v (0.000)           ve (0.000)        vr (0.000)\n",
            "  42     Museum (0.996)    Museum (0.996)         , (0.002)       museum (0.002)         Muse (0.000)       and (0.000)\n",
            "  43          , (1.000)       and (0.000)         ( (0.000)            , (0.000)            . (0.000)                  \n",
            "  44        and (0.851)       and (0.851)       Not (0.147)          Arc (0.000)        Seine (0.000)    Palace (0.000)\n",
            "  45        Not (0.995)       the (0.003)       Not (0.000)          Arc (0.000)        Seine (0.000)                  \n",
            "  46         re (1.000)        re (1.000)        ré (0.000)           ре (0.000)          red (0.000)       reb (0.000)\n",
            "  47          - (0.971)         - (0.971)         D (0.029)            – (0.000)            ‑ (0.000)         ‐ (0.000)\n",
            "  48          D (1.000)         D (0.000)       Dam (0.000)            Д (0.000)                                       \n",
            "  49        ame (1.000)       ame (1.000)      ames (0.000)          AME (0.000)          ome (0.000)      amer (0.000)\n",
            "  50        Cat (0.979)         . (0.014)       cat (0.007)           de (0.000)          Cat (0.000)                  \n",
            "  51     hedral (1.000)    hedral (1.000)       hed (0.000)           he (0.000)         heid (0.000)       hes (0.000)\n",
            "  52          . (0.999)         . (0.999)         , (0.001)        among (0.000)      amongst (0.000)        to (0.000)\n",
            "  53      Paris (0.732)     Paris (0.732)      </s> (0.163)          The (0.047)           It (0.027)   Despite (0.007)\n",
            "  54         is (0.765)        is (0.765)       has (0.151)       serves (0.046)         also (0.011)       was (0.009)\n",
            "  55       also (0.608)      also (0.608)   located (0.287)        often (0.024)            a (0.018)       the (0.017)\n",
            "  56        the (0.418)       the (0.418)         a (0.253)   considered (0.068)          one (0.060)      home (0.053)\n",
            "  57  political (0.647) political (0.647)      most (0.087)      largest (0.077)     economic (0.047)    center (0.039)\n",
            "  58          , (0.944)         , (0.944)       and (0.053)       center (0.002)          hub (0.000)     heart (0.000)\n",
            "  59   economic (0.612)  economic (0.612)  cultural (0.372)  educational (0.009)     artistic (0.002)    econom (0.001)\n",
            "  60          , (0.999)         , (0.999)       and (0.001)            ( (0.000)        heart (0.000)    center (0.000)\n",
            "  61        and (0.989)       and (0.989)  cultural (0.011)      fashion (0.000)     artistic (0.000)    social (0.000)\n",
            "  62   cultural (0.999)  cultural (0.999)  artistic (0.001)  educational (0.000) intellectual (0.000)   fashion (0.000)\n",
            "  63     center (0.965)    center (0.965)       hub (0.023)        heart (0.007)         epic (0.003)    centre (0.002)\n",
            "  64         of (1.000)        of (1.000)       for (0.000)           in (0.000)          and (0.000)         , (0.000)\n",
            "  65     France (0.994)    France (0.994)       the (0.006)          not (0.000)         both (0.000)        Fr (0.000)\n",
            "  66          . (0.855)         . (0.855)       and (0.090)            , (0.055)           as (0.001)      with (0.000)\n",
            "  67       </s> (0.925)      </s> (0.925)       The (0.032)           It (0.019)          Its (0.004)   Despite (0.004)\n"
          ]
        }
      ]
    },
    {
      "cell_type": "code",
      "source": [
        "# prompt: Write code that can render the response from LLM, colour code each token/word based on probability. Higher to lower colours: [ #FFFFFF, #dbdbdb, #adadac, #696868, #333331, #000000]   Prompt, role=user \"Write 3 paragraphs about Paris\"\n",
        "\n",
        "from IPython.display import display, HTML\n",
        "\n",
        "def render_colored_text(completion):\n",
        "    \"\"\"\n",
        "    Renders the text response from an LLM, coloring each token based on its probability.\n",
        "\n",
        "    Args:\n",
        "        completion: The completion object from the LLM client with logprobs enabled.\n",
        "    \"\"\"\n",
        "    logprobs = completion.choices[0].logprobs\n",
        "    if not logprobs or not logprobs.token_logprobs:\n",
        "        print(\"Log probabilities not available in the completion.\")\n",
        "        print(completion.choices[0].message.content)\n",
        "        return\n",
        "\n",
        "    # Define color mapping for probabilities (higher to lower)\n",
        "    # Mapping log_prob to a 0-1 range based on min/max log_probs\n",
        "    colors = [\"#000000\", \"#333331\", \"#696868\", \"#adadac\", \"#dbdbdb\", \"#FFFFFF\"] # reversed - white is most confident\n",
        "    min_log_prob = min(logprobs.token_logprobs)\n",
        "    max_log_prob = max(logprobs.token_logprobs)\n",
        "    log_prob_range = max_log_prob - min_log_prob\n",
        "\n",
        "    html_output = \"\"\n",
        "    for token, log_prob in zip(logprobs.tokens, logprobs.token_logprobs):\n",
        "        if log_prob_range > 0:\n",
        "            normalized_prob = (log_prob - min_log_prob) / log_prob_range\n",
        "        else:\n",
        "            normalized_prob = 0.5\n",
        "\n",
        "        color_index = int(normalized_prob * (len(colors) - 1))\n",
        "        color = colors[color_index]\n",
        "\n",
        "        # Encode HTML entities for special characters in tokens\n",
        "        import html\n",
        "        escaped_token = html.escape(token)\n",
        "\n",
        "        html_output += f'<span style=\"color: {color};\">{escaped_token}</span>'\n",
        "\n",
        "    display(HTML(html_output))\n",
        "\n",
        "\n",
        "print(\"Rendering response with color coding based on token probability:\")\n",
        "completion_paris = client.chat.completions.create(\n",
        "    model=\"mistralai/Mistral-7B-Instruct-v0.3\",\n",
        "    messages=[\n",
        "        {\n",
        "            \"role\": \"user\",\n",
        "            \"content\": \"Write 3 paragraphs about Paris\"\n",
        "        }\n",
        "    ],\n",
        "    logprobs=True,\n",
        "    top_logprobs=5,\n",
        ")\n",
        "\n",
        "render_colored_text(completion_paris)\n",
        "\n"
      ],
      "metadata": {
        "colab": {
          "base_uri": "https://localhost:8080/",
          "height": 174
        },
        "id": "enPtKOJY73MT",
        "outputId": "ae1a5182-1a55-4a96-ad81-c5f57cc9c69c"
      },
      "execution_count": null,
      "outputs": [
        {
          "output_type": "stream",
          "name": "stdout",
          "text": [
            "Rendering response with color coding based on token probability:\n"
          ]
        },
        {
          "output_type": "display_data",
          "data": {
            "text/plain": [
              "<IPython.core.display.HTML object>"
            ],
            "text/html": [
              "<span style=\"color: #dbdbdb;\"> Paris</span><span style=\"color: #dbdbdb;\">,</span><span style=\"color: #adadac;\"> the</span><span style=\"color: #adadac;\"> City</span><span style=\"color: #dbdbdb;\"> of</span><span style=\"color: #dbdbdb;\"> Light</span><span style=\"color: #dbdbdb;\">,</span><span style=\"color: #dbdbdb;\"> is</span><span style=\"color: #adadac;\"> a</span><span style=\"color: #696868;\"> capt</span><span style=\"color: #dbdbdb;\">iv</span><span style=\"color: #dbdbdb;\">ating</span><span style=\"color: #dbdbdb;\"> met</span><span style=\"color: #dbdbdb;\">ropol</span><span style=\"color: #dbdbdb;\">is</span><span style=\"color: #adadac;\"> located</span><span style=\"color: #dbdbdb;\"> in</span><span style=\"color: #adadac;\"> northern</span><span style=\"color: #dbdbdb;\"> France</span><span style=\"color: #696868;\">,</span><span style=\"color: #dbdbdb;\"> renown</span><span style=\"color: #FFFFFF;\">ed</span><span style=\"color: #dbdbdb;\"> worldwide</span><span style=\"color: #dbdbdb;\"> for</span><span style=\"color: #dbdbdb;\"> its</span><span style=\"color: #adadac;\"> rich</span><span style=\"color: #dbdbdb;\"> history</span><span style=\"color: #dbdbdb;\">,</span><span style=\"color: #696868;\"> art</span><span style=\"color: #dbdbdb;\">,</span><span style=\"color: #dbdbdb;\"> culture</span><span style=\"color: #dbdbdb;\">,</span><span style=\"color: #dbdbdb;\"> and</span><span style=\"color: #dbdbdb;\"> gas</span><span style=\"color: #dbdbdb;\">tr</span><span style=\"color: #dbdbdb;\">onomy</span><span style=\"color: #dbdbdb;\">.</span><span style=\"color: #333331;\"> Est</span><span style=\"color: #dbdbdb;\">ab</span><span style=\"color: #dbdbdb;\">lished</span><span style=\"color: #dbdbdb;\"> in</span><span style=\"color: #dbdbdb;\"> the</span><span style=\"color: #dbdbdb;\"> </span><span style=\"color: #dbdbdb;\">3</span><span style=\"color: #dbdbdb;\">rd</span><span style=\"color: #dbdbdb;\"> century</span><span style=\"color: #dbdbdb;\"> BC</span><span style=\"color: #dbdbdb;\"> by</span><span style=\"color: #dbdbdb;\"> a</span><span style=\"color: #dbdbdb;\"> Celt</span><span style=\"color: #dbdbdb;\">ic</span><span style=\"color: #dbdbdb;\"> people</span><span style=\"color: #dbdbdb;\"> called</span><span style=\"color: #dbdbdb;\"> the</span><span style=\"color: #dbdbdb;\"> Paris</span><span style=\"color: #dbdbdb;\">ii</span><span style=\"color: #dbdbdb;\">,</span><span style=\"color: #adadac;\"> the</span><span style=\"color: #dbdbdb;\"> city</span><span style=\"color: #dbdbdb;\"> has</span><span style=\"color: #adadac;\"> since</span><span style=\"color: #adadac;\"> evolved</span><span style=\"color: #dbdbdb;\"> into</span><span style=\"color: #adadac;\"> a</span><span style=\"color: #dbdbdb;\"> global</span><span style=\"color: #adadac;\"> center</span><span style=\"color: #dbdbdb;\"> of</span><span style=\"color: #696868;\"> influence</span><span style=\"color: #696868;\">,</span><span style=\"color: #333331;\"> particularly</span><span style=\"color: #dbdbdb;\"> during</span><span style=\"color: #dbdbdb;\"> the</span><span style=\"color: #dbdbdb;\"> </span><span style=\"color: #dbdbdb;\">1</span><span style=\"color: #dbdbdb;\">7</span><span style=\"color: #dbdbdb;\">th</span><span style=\"color: #dbdbdb;\"> and</span><span style=\"color: #dbdbdb;\"> </span><span style=\"color: #dbdbdb;\">1</span><span style=\"color: #dbdbdb;\">8</span><span style=\"color: #dbdbdb;\">th</span><span style=\"color: #dbdbdb;\"> centuries</span><span style=\"color: #dbdbdb;\">,</span><span style=\"color: #adadac;\"> when</span><span style=\"color: #dbdbdb;\"> it</span><span style=\"color: #adadac;\"> served</span><span style=\"color: #dbdbdb;\"> as</span><span style=\"color: #dbdbdb;\"> the</span><span style=\"color: #696868;\"> capital</span><span style=\"color: #dbdbdb;\"> of</span><span style=\"color: #dbdbdb;\"> the</span><span style=\"color: #adadac;\"> Kingdom</span><span style=\"color: #dbdbdb;\"> of</span><span style=\"color: #dbdbdb;\"> France</span><span style=\"color: #dbdbdb;\"> and</span><span style=\"color: #dbdbdb;\"> the</span><span style=\"color: #696868;\"> center</span><span style=\"color: #dbdbdb;\"> of</span><span style=\"color: #dbdbdb;\"> the</span><span style=\"color: #adadac;\"> French</span><span style=\"color: #dbdbdb;\"> En</span><span style=\"color: #dbdbdb;\">light</span><span style=\"color: #dbdbdb;\">en</span><span style=\"color: #dbdbdb;\">ment</span><span style=\"color: #dbdbdb;\">.</span><span style=\"color: #dbdbdb;\">\n",
              "</span><span style=\"color: #dbdbdb;\">\n",
              "</span><span style=\"color: #adadac;\">One</span><span style=\"color: #dbdbdb;\"> of</span><span style=\"color: #dbdbdb;\"> the</span><span style=\"color: #dbdbdb;\"> most</span><span style=\"color: #dbdbdb;\"> icon</span><span style=\"color: #FFFFFF;\">ic</span><span style=\"color: #adadac;\"> land</span><span style=\"color: #dbdbdb;\">marks</span><span style=\"color: #dbdbdb;\"> in</span><span style=\"color: #dbdbdb;\"> Paris</span><span style=\"color: #dbdbdb;\"> is</span><span style=\"color: #dbdbdb;\"> the</span><span style=\"color: #dbdbdb;\"> E</span><span style=\"color: #dbdbdb;\">iff</span><span style=\"color: #dbdbdb;\">el</span><span style=\"color: #dbdbdb;\"> Tower</span><span style=\"color: #dbdbdb;\">,</span><span style=\"color: #adadac;\"> an</span><span style=\"color: #dbdbdb;\"> iron</span><span style=\"color: #dbdbdb;\"> lattice</span><span style=\"color: #dbdbdb;\"> tower</span><span style=\"color: #dbdbdb;\"> named</span><span style=\"color: #dbdbdb;\"> after</span><span style=\"color: #dbdbdb;\"> its</span><span style=\"color: #adadac;\"> designer</span><span style=\"color: #dbdbdb;\">,</span><span style=\"color: #dbdbdb;\"> Gust</span><span style=\"color: #dbdbdb;\">ave</span><span style=\"color: #dbdbdb;\"> E</span><span style=\"color: #dbdbdb;\">iff</span><span style=\"color: #FFFFFF;\">el</span><span style=\"color: #dbdbdb;\">.</span><span style=\"color: #dbdbdb;\"> Com</span><span style=\"color: #dbdbdb;\">pleted</span><span style=\"color: #dbdbdb;\"> in</span><span style=\"color: #dbdbdb;\"> </span><span style=\"color: #dbdbdb;\">1</span><span style=\"color: #dbdbdb;\">8</span><span style=\"color: #dbdbdb;\">8</span><span style=\"color: #dbdbdb;\">9</span><span style=\"color: #dbdbdb;\"> as</span><span style=\"color: #dbdbdb;\"> the</span><span style=\"color: #dbdbdb;\"> entrance</span><span style=\"color: #dbdbdb;\"> arch</span><span style=\"color: #dbdbdb;\"> for</span><span style=\"color: #dbdbdb;\"> the</span><span style=\"color: #dbdbdb;\"> </span><span style=\"color: #dbdbdb;\">1</span><span style=\"color: #dbdbdb;\">8</span><span style=\"color: #dbdbdb;\">8</span><span style=\"color: #dbdbdb;\">9</span><span style=\"color: #adadac;\"> World</span><span style=\"color: #dbdbdb;\">&#x27;</span><span style=\"color: #dbdbdb;\">s</span><span style=\"color: #dbdbdb;\"> Fair</span><span style=\"color: #dbdbdb;\">,</span><span style=\"color: #dbdbdb;\"> it</span><span style=\"color: #696868;\"> stands</span><span style=\"color: #adadac;\"> at</span><span style=\"color: #adadac;\"> a</span><span style=\"color: #dbdbdb;\"> height</span><span style=\"color: #dbdbdb;\"> of</span><span style=\"color: #dbdbdb;\"> </span><span style=\"color: #dbdbdb;\">3</span><span style=\"color: #dbdbdb;\">3</span><span style=\"color: #dbdbdb;\">0</span><span style=\"color: #dbdbdb;\"> meters</span><span style=\"color: #dbdbdb;\"> (</span><span style=\"color: #dbdbdb;\">1</span><span style=\"color: #dbdbdb;\">,</span><span style=\"color: #dbdbdb;\">0</span><span style=\"color: #dbdbdb;\">8</span><span style=\"color: #dbdbdb;\">3</span><span style=\"color: #dbdbdb;\"> feet</span><span style=\"color: #dbdbdb;\">)</span><span style=\"color: #dbdbdb;\"> and</span><span style=\"color: #adadac;\"> offers</span><span style=\"color: #dbdbdb;\"> breat</span><span style=\"color: #dbdbdb;\">ht</span><span style=\"color: #dbdbdb;\">aking</span><span style=\"color: #dbdbdb;\"> pan</span><span style=\"color: #dbdbdb;\">or</span><span style=\"color: #dbdbdb;\">amic</span><span style=\"color: #dbdbdb;\"> views</span><span style=\"color: #dbdbdb;\"> of</span><span style=\"color: #dbdbdb;\"> the</span><span style=\"color: #dbdbdb;\"> city</span><span style=\"color: #dbdbdb;\">.</span><span style=\"color: #adadac;\"> Another</span><span style=\"color: #696868;\"> must</span><span style=\"color: #dbdbdb;\">-</span><span style=\"color: #adadac;\">visit</span><span style=\"color: #dbdbdb;\"> attraction</span><span style=\"color: #dbdbdb;\"> is</span><span style=\"color: #dbdbdb;\"> the</span><span style=\"color: #dbdbdb;\"> Lou</span><span style=\"color: #dbdbdb;\">vre</span><span style=\"color: #dbdbdb;\"> Museum</span><span style=\"color: #dbdbdb;\">,</span><span style=\"color: #696868;\"> the</span><span style=\"color: #dbdbdb;\"> world</span><span style=\"color: #dbdbdb;\">&#x27;</span><span style=\"color: #dbdbdb;\">s</span><span style=\"color: #dbdbdb;\"> largest</span><span style=\"color: #dbdbdb;\"> art</span><span style=\"color: #dbdbdb;\"> museum</span><span style=\"color: #dbdbdb;\"> and</span><span style=\"color: #dbdbdb;\"> a</span><span style=\"color: #dbdbdb;\"> historic</span><span style=\"color: #dbdbdb;\"> monument</span><span style=\"color: #dbdbdb;\"> in</span><span style=\"color: #dbdbdb;\"> Paris</span><span style=\"color: #dbdbdb;\">.</span><span style=\"color: #adadac;\"> Home</span><span style=\"color: #dbdbdb;\"> to</span><span style=\"color: #dbdbdb;\"> thousands</span><span style=\"color: #dbdbdb;\"> of</span><span style=\"color: #dbdbdb;\"> works</span><span style=\"color: #dbdbdb;\"> of</span><span style=\"color: #dbdbdb;\"> art</span><span style=\"color: #dbdbdb;\">,</span><span style=\"color: #dbdbdb;\"> including</span><span style=\"color: #dbdbdb;\"> the</span><span style=\"color: #dbdbdb;\"> Mon</span><span style=\"color: #dbdbdb;\">a</span><span style=\"color: #dbdbdb;\"> Lisa</span><span style=\"color: #dbdbdb;\"> and</span><span style=\"color: #dbdbdb;\"> the</span><span style=\"color: #adadac;\"> Ven</span><span style=\"color: #dbdbdb;\">us</span><span style=\"color: #dbdbdb;\"> de</span><span style=\"color: #dbdbdb;\"> Mil</span><span style=\"color: #FFFFFF;\">o</span><span style=\"color: #dbdbdb;\">,</span><span style=\"color: #dbdbdb;\"> the</span><span style=\"color: #dbdbdb;\"> Lou</span><span style=\"color: #dbdbdb;\">vre</span><span style=\"color: #adadac;\"> attract</span><span style=\"color: #dbdbdb;\">s</span><span style=\"color: #dbdbdb;\"> millions</span><span style=\"color: #dbdbdb;\"> of</span><span style=\"color: #dbdbdb;\"> visitors</span><span style=\"color: #dbdbdb;\"> each</span><span style=\"color: #dbdbdb;\"> year</span><span style=\"color: #dbdbdb;\">.</span><span style=\"color: #dbdbdb;\">\n",
              "</span><span style=\"color: #dbdbdb;\">\n",
              "</span><span style=\"color: #dbdbdb;\">Par</span><span style=\"color: #dbdbdb;\">is</span><span style=\"color: #dbdbdb;\"> is</span><span style=\"color: #dbdbdb;\"> also</span><span style=\"color: #dbdbdb;\"> famous</span><span style=\"color: #dbdbdb;\"> for</span><span style=\"color: #dbdbdb;\"> its</span><span style=\"color: #333331;\"> charming</span><span style=\"color: #dbdbdb;\"> neighborhood</span><span style=\"color: #dbdbdb;\">s</span><span style=\"color: #dbdbdb;\">,</span><span style=\"color: #adadac;\"> such</span><span style=\"color: #dbdbdb;\"> as</span><span style=\"color: #adadac;\"> Mont</span><span style=\"color: #dbdbdb;\">mart</span><span style=\"color: #dbdbdb;\">re</span><span style=\"color: #dbdbdb;\">,</span><span style=\"color: #dbdbdb;\"> known</span><span style=\"color: #dbdbdb;\"> for</span><span style=\"color: #dbdbdb;\"> its</span><span style=\"color: #dbdbdb;\"> bo</span><span style=\"color: #dbdbdb;\">hem</span><span style=\"color: #dbdbdb;\">ian</span><span style=\"color: #adadac;\"> history</span><span style=\"color: #dbdbdb;\"> and</span><span style=\"color: #dbdbdb;\"> the</span><span style=\"color: #adadac;\"> icon</span><span style=\"color: #dbdbdb;\">ic</span><span style=\"color: #dbdbdb;\"> Sac</span><span style=\"color: #dbdbdb;\">ré</span><span style=\"color: #dbdbdb;\">-</span><span style=\"color: #dbdbdb;\">C</span><span style=\"color: #dbdbdb;\">œur</span><span style=\"color: #dbdbdb;\"> Bas</span><span style=\"color: #dbdbdb;\">il</span><span style=\"color: #dbdbdb;\">ica</span><span style=\"color: #dbdbdb;\">,</span><span style=\"color: #dbdbdb;\"> and</span><span style=\"color: #dbdbdb;\"> the</span><span style=\"color: #adadac;\"> Latin</span><span style=\"color: #dbdbdb;\"> Quarter</span><span style=\"color: #dbdbdb;\">,</span><span style=\"color: #696868;\"> home</span><span style=\"color: #dbdbdb;\"> to</span><span style=\"color: #dbdbdb;\"> the</span><span style=\"color: #dbdbdb;\"> Sor</span><span style=\"color: #dbdbdb;\">bon</span><span style=\"color: #dbdbdb;\">ne</span><span style=\"color: #dbdbdb;\"> University</span><span style=\"color: #dbdbdb;\"> and</span><span style=\"color: #dbdbdb;\"> the</span><span style=\"color: #adadac;\"> P</span><span style=\"color: #dbdbdb;\">ant</span><span style=\"color: #dbdbdb;\">he</span><span style=\"color: #dbdbdb;\">on</span><span style=\"color: #dbdbdb;\">,</span><span style=\"color: #dbdbdb;\"> a</span><span style=\"color: #dbdbdb;\"> m</span><span style=\"color: #dbdbdb;\">aus</span><span style=\"color: #dbdbdb;\">ole</span><span style=\"color: #dbdbdb;\">um</span><span style=\"color: #333331;\"> containing</span><span style=\"color: #dbdbdb;\"> the</span><span style=\"color: #dbdbdb;\"> remains</span><span style=\"color: #dbdbdb;\"> of</span><span style=\"color: #696868;\"> notable</span><span style=\"color: #dbdbdb;\"> French</span><span style=\"color: #dbdbdb;\"> figures</span><span style=\"color: #dbdbdb;\"> like</span><span style=\"color: #adadac;\"> Victor</span><span style=\"color: #dbdbdb;\"> Hugo</span><span style=\"color: #dbdbdb;\"> and</span><span style=\"color: #dbdbdb;\"> Marie</span><span style=\"color: #dbdbdb;\"> Cur</span><span style=\"color: #dbdbdb;\">ie</span><span style=\"color: #dbdbdb;\">.</span><span style=\"color: #dbdbdb;\"> The</span><span style=\"color: #adadac;\"> city</span><span style=\"color: #dbdbdb;\">&#x27;</span><span style=\"color: #dbdbdb;\">s</span><span style=\"color: #adadac;\"> cul</span><span style=\"color: #dbdbdb;\">inary</span><span style=\"color: #dbdbdb;\"> scene</span><span style=\"color: #dbdbdb;\"> is</span><span style=\"color: #adadac;\"> equally</span><span style=\"color: #696868;\"> renown</span><span style=\"color: #dbdbdb;\">ed</span><span style=\"color: #dbdbdb;\">,</span><span style=\"color: #dbdbdb;\"> with</span><span style=\"color: #000000;\"> classic</span><span style=\"color: #adadac;\"> French</span><span style=\"color: #adadac;\"> dishes</span><span style=\"color: #dbdbdb;\"> like</span><span style=\"color: #adadac;\"> co</span><span style=\"color: #dbdbdb;\">q</span><span style=\"color: #dbdbdb;\"> au</span><span style=\"color: #dbdbdb;\"> vin</span><span style=\"color: #dbdbdb;\">,</span><span style=\"color: #dbdbdb;\"> esc</span><span style=\"color: #dbdbdb;\">arg</span><span style=\"color: #dbdbdb;\">ot</span><span style=\"color: #dbdbdb;\">,</span><span style=\"color: #dbdbdb;\"> and</span><span style=\"color: #696868;\"> cro</span><span style=\"color: #dbdbdb;\">iss</span><span style=\"color: #dbdbdb;\">ants</span><span style=\"color: #333331;\"> being</span><span style=\"color: #696868;\"> enjoyed</span><span style=\"color: #dbdbdb;\"> by</span><span style=\"color: #dbdbdb;\"> locals</span><span style=\"color: #dbdbdb;\"> and</span><span style=\"color: #dbdbdb;\"> tourists</span><span style=\"color: #dbdbdb;\"> alike</span><span style=\"color: #dbdbdb;\">.</span><span style=\"color: #adadac;\"> Paris</span><span style=\"color: #696868;\">&#x27;</span><span style=\"color: #adadac;\">s</span><span style=\"color: #adadac;\"> vibr</span><span style=\"color: #dbdbdb;\">ant</span><span style=\"color: #696868;\"> night</span><span style=\"color: #dbdbdb;\">life</span><span style=\"color: #dbdbdb;\">,</span><span style=\"color: #696868;\"> fashion</span><span style=\"color: #adadac;\"> industry</span><span style=\"color: #dbdbdb;\">,</span><span style=\"color: #dbdbdb;\"> and</span><span style=\"color: #696868;\"> art</span><span style=\"color: #dbdbdb;\"> scene</span><span style=\"color: #adadac;\"> further</span><span style=\"color: #696868;\"> solid</span><span style=\"color: #dbdbdb;\">ify</span><span style=\"color: #dbdbdb;\"> its</span><span style=\"color: #dbdbdb;\"> status</span><span style=\"color: #dbdbdb;\"> as</span><span style=\"color: #dbdbdb;\"> one</span><span style=\"color: #dbdbdb;\"> of</span><span style=\"color: #dbdbdb;\"> the</span><span style=\"color: #dbdbdb;\"> most</span><span style=\"color: #dbdbdb;\"> romantic</span><span style=\"color: #dbdbdb;\"> and</span><span style=\"color: #adadac;\"> cult</span><span style=\"color: #dbdbdb;\">ur</span><span style=\"color: #dbdbdb;\">ally</span><span style=\"color: #dbdbdb;\"> significant</span><span style=\"color: #dbdbdb;\"> cities</span><span style=\"color: #dbdbdb;\"> in</span><span style=\"color: #dbdbdb;\"> the</span><span style=\"color: #dbdbdb;\"> world</span><span style=\"color: #dbdbdb;\">.</span><span style=\"color: #dbdbdb;\">&lt;/s&gt;</span>"
            ]
          },
          "metadata": {}
        }
      ]
    }
  ]
}