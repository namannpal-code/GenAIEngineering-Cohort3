{
 "cells": [
  {
   "cell_type": "markdown",
   "metadata": {},
   "source": [
    "### File Handling\n",
    "**Native Funtions**  \n",
    "Using python native file handling functions, its possible to perform all basic file operations.  \n",
    "It includes reading, writing, appending in text as well as binary modes"
   ]
  },
  {
   "cell_type": "markdown",
   "metadata": {},
   "source": [
    ">Read the file in text, binary modes. Read same number of characters and compare the result"
   ]
  },
  {
   "cell_type": "code",
   "execution_count": null,
   "metadata": {},
   "outputs": [],
   "source": [
    "# Open the same file in 2 diff pointers\n",
    "T_File = open ('input.txt', mode='r')\n",
    "B_File = open ('input.txt', mode='rb')\n",
    "\n",
    "# Read Same number of bytes\n",
    "T_Content = T_File.read (10)\n",
    "B_Content = B_File.read (10)\n",
    "\n",
    "# Check the types\n",
    "print (type(T_Content))\n",
    "print (type(B_Content))\n",
    "\n",
    "# Check the content\n",
    "print (T_Content)\n",
    "print (B_Content)"
   ]
  },
  {
   "cell_type": "code",
   "execution_count": null,
   "metadata": {},
   "outputs": [],
   "source": [
    "# Continue reading from where it left\n",
    "# When bytes are read, the file pointer continues from where it completed in previous read\n",
    "print (T_File.read(10))\n",
    "print (T_File.read(10))"
   ]
  },
  {
   "cell_type": "markdown",
   "metadata": {},
   "source": [
    ">Read line wise the content of file. File pointer is reset to start  \n",
    ">Every function call reads a line (upto a '\\n')"
   ]
  },
  {
   "cell_type": "code",
   "execution_count": null,
   "metadata": {},
   "outputs": [],
   "source": [
    "# reset to beginning\n",
    "T_File.seek (0)\n",
    "\n",
    "# Read a line\n",
    "line = T_File.readline ()\n",
    "\n",
    "while (line):\n",
    "\n",
    "    print (line)\n",
    "\n",
    "    # Read next line\n",
    "    line = T_File.readline()\n",
    "\n",
    "T_File.close ()"
   ]
  },
  {
   "cell_type": "markdown",
   "metadata": {},
   "source": [
    ">With clause gives a block, in which the file is opened and closed after the block  \n",
    ">All lines read in one go"
   ]
  },
  {
   "cell_type": "code",
   "execution_count": null,
   "metadata": {},
   "outputs": [],
   "source": [
    "# Read it in the block\n",
    "with open ('input.txt', mode='r') as File:\n",
    "\n",
    "    # Read all the lines\n",
    "    Lines = File.readlines ()\n",
    "\n",
    "    # Check the type and size\n",
    "    print (type(Lines))\n",
    "    print (len(Lines))\n",
    "\n",
    "    for Line in Lines :\n",
    "\n",
    "        print (Line)"
   ]
  },
  {
   "cell_type": "markdown",
   "metadata": {},
   "source": [
    ">Write the content into the file both in text and binary mode.  \n",
    ">Check the output file to see the diff in content"
   ]
  },
  {
   "cell_type": "code",
   "execution_count": 5,
   "metadata": {},
   "outputs": [],
   "source": [
    "# File opened in Write mode\n",
    "T_File = open ('Text_Output.txt', mode='w')\n",
    "B_File = open ('Bin_Output.bin', mode='wb')\n",
    "\n",
    "for Idx in range (5) :\n",
    "\n",
    "    # Write to text file\n",
    "    T_File.write (str(Idx))\n",
    "\n",
    "    # Write to binary file\n",
    "    B_File.write (Idx.to_bytes())\n",
    "\n",
    "T_File.close ()\n",
    "B_File.close ()\n"
   ]
  },
  {
   "cell_type": "markdown",
   "metadata": {},
   "source": [
    "**CSV Files**  \n",
    "Handling CSV file can be tedious if we just use the file operator (read, write etc).  \n",
    "There is a specific library available, which will make it easy to handle CSV file."
   ]
  },
  {
   "cell_type": "code",
   "execution_count": null,
   "metadata": {},
   "outputs": [],
   "source": [
    "# Import the library\n",
    "import csv\n",
    "\n",
    "# Open the file\n",
    "with open ('Data_1.csv', mode='r') as CSV_File :\n",
    "\n",
    "    # Create a CSV reader\n",
    "    CSV = csv.reader (CSV_File)\n",
    "    print (\"Type of CSV reader : \",type(CSV))\n",
    "\n",
    "    # Read the Rows\n",
    "    for Row in CSV :\n",
    "\n",
    "        print (Row)\n"
   ]
  },
  {
   "cell_type": "code",
   "execution_count": 7,
   "metadata": {},
   "outputs": [],
   "source": [
    "Content = [['a', 'b', 'c'], [2,3,4], [4,7,8]]\n",
    "\n",
    "# Open in write mode\n",
    "with open ('Data_2.csv', mode='w', newline='') as CSV_File:\n",
    "\n",
    "    # CSV writer object\n",
    "    CSV = csv.writer (CSV_File)\n",
    "\n",
    "    # Write the content into it\n",
    "    CSV.writerows (Content)"
   ]
  }
 ],
 "metadata": {
  "kernelspec": {
   "display_name": "Python 3",
   "language": "python",
   "name": "python3"
  },
  "language_info": {
   "codemirror_mode": {
    "name": "ipython",
    "version": 3
   },
   "file_extension": ".py",
   "mimetype": "text/x-python",
   "name": "python",
   "nbconvert_exporter": "python",
   "pygments_lexer": "ipython3",
   "version": "3.12.8"
  }
 },
 "nbformat": 4,
 "nbformat_minor": 2
}
