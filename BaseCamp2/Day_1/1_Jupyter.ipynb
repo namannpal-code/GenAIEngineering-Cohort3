{
 "cells": [
  {
   "cell_type": "markdown",
   "metadata": {},
   "source": [
    "### Import required packages"
   ]
  },
  {
   "cell_type": "code",
   "execution_count": 2,
   "metadata": {},
   "outputs": [],
   "source": [
    "from datetime import datetime\n",
    "from datetime import timedelta"
   ]
  },
  {
   "cell_type": "markdown",
   "metadata": {},
   "source": [
    "### Code to write output to a file\n",
    "File **'output.txt'** is created in **write** mode    \n",
    "Write statement in the block writes the output stream to the file.  \n",
    "\n",
    "<span style=\"color:darkorange;\"><em>Note the indentation</em></span>\n"
   ]
  },
  {
   "cell_type": "code",
   "execution_count": 3,
   "metadata": {},
   "outputs": [],
   "source": [
    "# Python does not to static typing (meaning no declaration of variable needed. You assign and start using it. It takes the type)\n",
    "Iter = 5\n",
    "Now = datetime.now ()\n",
    "Delay_1D = timedelta (days=1)\n",
    "\n",
    "# Indentation represents the control block\n",
    "with open ('Output.txt', mode='w') as Log :\n",
    "\n",
    "    for i in range (Iter) :\n",
    "\n",
    "     Day = Now.strftime (\"%d-%m-%y\")\n",
    "     Log.write (\"Day \" + str(i) + \" : \"+ Day + \"\\n\")\n",
    "\n",
    "     Now = Now + Delay_1D"
   ]
  }
 ],
 "metadata": {
  "kernelspec": {
   "display_name": "Python 3",
   "language": "python",
   "name": "python3"
  },
  "language_info": {
   "codemirror_mode": {
    "name": "ipython",
    "version": 3
   },
   "file_extension": ".py",
   "mimetype": "text/x-python",
   "name": "python",
   "nbconvert_exporter": "python",
   "pygments_lexer": "ipython3",
   "version": "3.12.8"
  }
 },
 "nbformat": 4,
 "nbformat_minor": 2
}
