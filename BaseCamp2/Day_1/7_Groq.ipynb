{
 "cells": [
  {
   "cell_type": "markdown",
   "metadata": {},
   "source": [
    "### Groq Usage for LLM ###\n",
    "**Library Need**  \n",
    "To use the APIs provided by the groq platform, the library 'groq' is required.  \n",
    "Ensure to have performed 'pip install groq'  \n",
    "The API key from your Groq account would be required to execute this code\n"
   ]
  },
  {
   "cell_type": "code",
   "execution_count": 1,
   "metadata": {},
   "outputs": [],
   "source": [
    "# Import required class from Groq\n",
    "from groq import Groq\n",
    "from dotenv import load_dotenv\n",
    "\n",
    "# Initialise an client object with API key\n",
    "load_dotenv ()\n",
    "Client = Groq ()\n",
    "\n",
    "# Client = Groq (api_key='Your API Key')"
   ]
  },
  {
   "cell_type": "markdown",
   "metadata": {},
   "source": [
    "**Invoke for chat Completion**  \n",
    ">The APIs can be used for invoking LLM models available in Groq for chat completion  \n",
    ">Try with differet models and different prompt messages"
   ]
  },
  {
   "cell_type": "code",
   "execution_count": null,
   "metadata": {},
   "outputs": [],
   "source": [
    "prompt = \"Tell me interesting fact about LLAMA\"\n",
    "\n",
    "# Prompt needs to be organised as message (list of dict)\n",
    "messages=[\n",
    "    {\n",
    "        \"role\": \"user\",\n",
    "        \"content\": prompt,\n",
    "    }\n",
    "]\n",
    "completion = Client.chat.completions.create(\n",
    "    messages=messages,    \n",
    "    model=\"llama-3.3-70b-versatile\",\n",
    "    # model=\"openai/gpt-oss-120b\",\n",
    "    stop=None,\n",
    ")\n",
    "\n",
    "print (completion.choices[0].message.content)"
   ]
  }
 ],
 "metadata": {
  "kernelspec": {
   "display_name": "Python 3",
   "language": "python",
   "name": "python3"
  },
  "language_info": {
   "codemirror_mode": {
    "name": "ipython",
    "version": 3
   },
   "file_extension": ".py",
   "mimetype": "text/x-python",
   "name": "python",
   "nbconvert_exporter": "python",
   "pygments_lexer": "ipython3",
   "version": "3.12.8"
  }
 },
 "nbformat": 4,
 "nbformat_minor": 2
}
