{
 "cells": [
  {
   "cell_type": "markdown",
   "metadata": {},
   "source": [
    "### Functions\n",
    "Function is a basic callable unit in python language. This helps to organise functionally distinct block of code into a boundary and make it re-usable. Note that the functional parameters / arguments are dynamically typed by default  \n",
    "\n",
    "> Dynamic typing of arguments and return  \n",
    "> Return is optional"
   ]
  },
  {
   "cell_type": "code",
   "execution_count": 1,
   "metadata": {},
   "outputs": [],
   "source": [
    "# Definition of a function\n",
    "def Process_Numbers (x, y):\n",
    "\n",
    "    # Do some processing ...\n",
    "    z = (x ** 2) + (y * 1.3)\n",
    "\n",
    "    return (str(int(z)))"
   ]
  },
  {
   "cell_type": "code",
   "execution_count": null,
   "metadata": {},
   "outputs": [],
   "source": [
    "# Call function\n",
    "Result = Process_Numbers (3, 8)\n",
    "print (Result)"
   ]
  },
  {
   "cell_type": "code",
   "execution_count": null,
   "metadata": {},
   "outputs": [],
   "source": [
    "# With diff type of parameter\n",
    "Result = Process_Numbers (4.67, 8.2)\n",
    "print (Result)"
   ]
  },
  {
   "cell_type": "code",
   "execution_count": null,
   "metadata": {},
   "outputs": [],
   "source": [
    "# Does not capture return value\n",
    "Process_Numbers (3, 4)"
   ]
  },
  {
   "cell_type": "markdown",
   "metadata": {},
   "source": [
    ">Arguments can be positional or named  \n",
    ">Positional arguments take meaning by order. Named arguments are explicit by argument name"
   ]
  },
  {
   "cell_type": "code",
   "execution_count": 5,
   "metadata": {},
   "outputs": [],
   "source": [
    "def Check_Args (First, Second) :\n",
    "\n",
    "    print (f\"The First argument is : {First}. The Second one is : {Second}\")"
   ]
  },
  {
   "cell_type": "code",
   "execution_count": null,
   "metadata": {},
   "outputs": [],
   "source": [
    "# Call as positional\n",
    "Check_Args (33, 44)\n",
    "Check_Args ('This', 'That')"
   ]
  },
  {
   "cell_type": "code",
   "execution_count": null,
   "metadata": {},
   "outputs": [],
   "source": [
    "# Call as named argument\n",
    "# ?? What would be the output?\n",
    "Check_Args (Second='This', First='That')"
   ]
  },
  {
   "cell_type": "markdown",
   "metadata": {},
   "source": [
    "**Type Hint**  \n",
    "Type hints are indicative of the argument data type for usage clarity  "
   ]
  },
  {
   "cell_type": "code",
   "execution_count": 8,
   "metadata": {},
   "outputs": [],
   "source": [
    "def Process_Numbers (n1 : int, n2 : int) -> int:\n",
    "\n",
    "    # Some mathematical process\n",
    "    res = (n1 ** 2.45) + (n2 + (n1 * 1.23))\n",
    "    return int(round(res))"
   ]
  },
  {
   "cell_type": "code",
   "execution_count": null,
   "metadata": {},
   "outputs": [],
   "source": [
    "Res = Process_Numbers (2, 4)\n",
    "print (Res)"
   ]
  },
  {
   "cell_type": "code",
   "execution_count": null,
   "metadata": {},
   "outputs": [],
   "source": [
    "# ?? What would be the output\n",
    "Res = Process_Numbers (2.34, 3)\n",
    "print (Res)"
   ]
  },
  {
   "cell_type": "markdown",
   "metadata": {},
   "source": [
    ">Arguments can be given default value in definition. If caller does not provide this argument, it works with default value. Thus makes it optional.  \n",
    ">Default value agruments need to follow the other arguments.\n",
    ">There are multiple return possible"
   ]
  },
  {
   "cell_type": "code",
   "execution_count": 11,
   "metadata": {},
   "outputs": [],
   "source": [
    "def Process_Data (Base, Offset, factor=1.3):\n",
    "\n",
    "    Result = (Base * factor) + Offset\n",
    "    return factor, Result"
   ]
  },
  {
   "cell_type": "code",
   "execution_count": null,
   "metadata": {},
   "outputs": [],
   "source": [
    "# Call with specific value\n",
    "Fac, Res = Process_Data (10, 5, factor=3.0)\n",
    "print (f\"Factor considered is {Fac} and resulting value is {Res}\")"
   ]
  },
  {
   "cell_type": "code",
   "execution_count": null,
   "metadata": {},
   "outputs": [],
   "source": [
    "# Call with specific value\n",
    "Fac, Res = Process_Data (50, 35)\n",
    "print (f\"Factor considered is {Fac} and resulting value is {Res}\")"
   ]
  },
  {
   "cell_type": "markdown",
   "metadata": {},
   "source": [
    ">Functions in python treated in a very specific way. They are not just callable, they can also be treated as variables, arguments themselves.  \n",
    ">This provides a flexibility in programming to use them as function pointers equivalent"
   ]
  },
  {
   "cell_type": "code",
   "execution_count": 14,
   "metadata": {},
   "outputs": [],
   "source": [
    "# This function takes an argument that is expected to be a function\n",
    "def Data_Handler (Process, d1, d2):\n",
    "\n",
    "    \"\"\"\n",
    "    This is Doc string section. It is multi line comment in python.\n",
    "    This helps is providing a section for documentation of code.\n",
    "    You can use this to capture the functional documentation and description about the arguments, return\n",
    "    \"\"\"\n",
    "\n",
    "    # Some data handling is required after processing the data\n",
    "    fac, res = Process (d1, d2)\n",
    "    print (f\"Factor considered is {fac} and resulting value is {res:.2f} @ 1st call\")\n",
    "\n",
    "    fac, res = Process (fac, res)\n",
    "    print (f\"Factor considered is {fac} and resulting value is {res:.2f} @ 2nd call\")\n",
    "\n",
    "    return fac, res"
   ]
  },
  {
   "cell_type": "code",
   "execution_count": null,
   "metadata": {},
   "outputs": [],
   "source": [
    "# Call the higher function\n",
    "Ret = Data_Handler (Process_Data, 13, 7)\n",
    "print (Ret)"
   ]
  },
  {
   "cell_type": "markdown",
   "metadata": {},
   "source": [
    "**Nested Function**\n",
    "Function can be inside another function to have an encapsulated scope"
   ]
  },
  {
   "cell_type": "code",
   "execution_count": 16,
   "metadata": {},
   "outputs": [],
   "source": [
    "def outer_fn (init, max_iter):\n",
    "\n",
    "    # define another function in the outer functions scope for specific task\n",
    "    def inner_fn (iter) :\n",
    "\n",
    "        # compute a factor based on iteration number\n",
    "        fac = iter * 1.23\n",
    "        return fac # return from inner function\n",
    "\n",
    "    val = init\n",
    "    for iter in range (max_iter) :\n",
    "\n",
    "        val += inner_fn (iter)\n",
    "        print (\"Iteration : \", iter, \" Value : \", val)\n",
    "\n",
    "    return val # return from outer function\n"
   ]
  },
  {
   "cell_type": "code",
   "execution_count": null,
   "metadata": {},
   "outputs": [],
   "source": [
    "# Call the function\n",
    "Ret = outer_fn (12, 5)"
   ]
  },
  {
   "cell_type": "markdown",
   "metadata": {},
   "source": [
    "functions are treated like **objects**. Meaning it can have attributes"
   ]
  },
  {
   "cell_type": "code",
   "execution_count": 18,
   "metadata": {},
   "outputs": [],
   "source": [
    "# Function, that is defined with an attribute. Check the value is persistent\n",
    "def counter():\n",
    "    counter.count += 1\n",
    "    return counter.count\n"
   ]
  },
  {
   "cell_type": "code",
   "execution_count": null,
   "metadata": {},
   "outputs": [],
   "source": [
    "counter.count = 0\n",
    "print(counter()) \n",
    "print(counter()) "
   ]
  }
 ],
 "metadata": {
  "kernelspec": {
   "display_name": "Python 3",
   "language": "python",
   "name": "python3"
  },
  "language_info": {
   "codemirror_mode": {
    "name": "ipython",
    "version": 3
   },
   "file_extension": ".py",
   "mimetype": "text/x-python",
   "name": "python",
   "nbconvert_exporter": "python",
   "pygments_lexer": "ipython3",
   "version": "3.12.8"
  }
 },
 "nbformat": 4,
 "nbformat_minor": 2
}
