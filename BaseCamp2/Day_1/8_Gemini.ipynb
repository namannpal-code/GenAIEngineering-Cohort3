{
 "cells": [
  {
   "cell_type": "markdown",
   "metadata": {},
   "source": [
    "### Gemini Usage for LLM ###\n",
    "**Library Need**  \n",
    "To use the APIs provided by the Geimi platform, the library 'Google GenAI' is required.  \n",
    "Ensure to have performed 'pip install google-genai'  \n",
    "The API key from your Google AI account would be required to execute this code\n"
   ]
  },
  {
   "cell_type": "code",
   "execution_count": 1,
   "metadata": {},
   "outputs": [],
   "source": [
    "# Import required class from Google\n",
    "from google import genai\n",
    "from google.genai import types\n",
    "from dotenv import load_dotenv\n",
    "\n",
    "# Initialise an client object with API key\n",
    "load_dotenv ()\n",
    "client = genai.Client()\n",
    "\n",
    "# Client = genai.Client (api_key='Your API Key')"
   ]
  },
  {
   "cell_type": "markdown",
   "metadata": {},
   "source": [
    "**Invoke for chat Completion**  \n",
    ">We try Gemini to get response from LLM  \n",
    ">Note the differece in terms of API  "
   ]
  },
  {
   "cell_type": "code",
   "execution_count": null,
   "metadata": {},
   "outputs": [],
   "source": [
    "response = client.models.generate_content(\n",
    "                model=\"gemini-2.0-flash\", \n",
    "                contents=\"How do I learn python?\"\n",
    "            )\n",
    "print(response.text)"
   ]
  },
  {
   "cell_type": "code",
   "execution_count": null,
   "metadata": {},
   "outputs": [],
   "source": [
    "# There is a specific instruction given \n",
    "Instruction = \"Continue the statement and make it 50 words\"\n",
    "Statement  = \"When Trump says Tariff, the world ...\"\n",
    "# Statement  = \"They say technology is for people, but ...\"\n",
    "\n",
    "# Invoke multiple times ...\n",
    "# ?? What do we expect \n",
    "for i in range (5):\n",
    "    \n",
    "    response = client.models.generate_content(\n",
    "                    model=\"gemini-2.0-flash\",\n",
    "                    config =types.GenerateContentConfig(\n",
    "                                system_instruction=Instruction,),\n",
    "                    contents =Statement\n",
    "    )\n",
    "\n",
    "    print(response.text)"
   ]
  }
 ],
 "metadata": {
  "kernelspec": {
   "display_name": "Test_Env",
   "language": "python",
   "name": "python3"
  },
  "language_info": {
   "codemirror_mode": {
    "name": "ipython",
    "version": 3
   },
   "file_extension": ".py",
   "mimetype": "text/x-python",
   "name": "python",
   "nbconvert_exporter": "python",
   "pygments_lexer": "ipython3",
   "version": "3.12.8"
  }
 },
 "nbformat": 4,
 "nbformat_minor": 2
}
